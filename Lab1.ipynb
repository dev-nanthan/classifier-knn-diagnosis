{
  "nbformat": 4,
  "nbformat_minor": 0,
  "metadata": {
    "colab": {
      "provenance": [],
      "authorship_tag": "ABX9TyPq1crn92PdxdsOXaF8Gveo",
      "include_colab_link": true
    },
    "kernelspec": {
      "name": "python3",
      "display_name": "Python 3"
    },
    "language_info": {
      "name": "python"
    }
  },
  "cells": [
    {
      "cell_type": "markdown",
      "metadata": {
        "id": "view-in-github",
        "colab_type": "text"
      },
      "source": [
        "<a href=\"https://colab.research.google.com/github/dev-nanthan/KNN_Classifier/blob/main/Lab1.ipynb\" target=\"_parent\"><img src=\"https://colab.research.google.com/assets/colab-badge.svg\" alt=\"Open In Colab\"/></a>"
      ]
    },
    {
      "cell_type": "code",
      "execution_count": null,
      "metadata": {
        "id": "miOZz0diJQb5"
      },
      "outputs": [],
      "source": [
        "import cv2\n",
        "\n",
        "# Read the image in RGB format\n",
        "image = cv2.imread('im1.png')\n",
        "\n",
        "# Convert the image to grayscale\n",
        "gray_image = cv2.cvtColor(image, cv2.COLOR_BGR2GRAY)\n",
        "\n",
        "# Display the grayscale image\n",
        "cv2.imshow('Grayscale Image', gray_image)\n",
        "cv2.waitKey(0)  # Wait for a key press\n",
        "cv2.destroyAllWindows()  # Close the window\n"
      ]
    }
  ]
}