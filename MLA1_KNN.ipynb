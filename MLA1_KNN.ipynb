{
  "nbformat": 4,
  "nbformat_minor": 0,
  "metadata": {
    "colab": {
      "provenance": [],
      "authorship_tag": "ABX9TyNQGjwq/8qDYVGzP9R6Oovs"
    },
    "kernelspec": {
      "name": "python3",
      "display_name": "Python 3"
    },
    "language_info": {
      "name": "python"
    }
  },
  "cells": [
    {
      "cell_type": "markdown",
      "source": [
        "# IMPORT Required Packages and Required Train and Test Data"
      ],
      "metadata": {
        "id": "_hkzt-vbmjgY"
      }
    },
    {
      "cell_type": "code",
      "execution_count": 4,
      "metadata": {
        "id": "LC_DPnjp7RP9"
      },
      "outputs": [],
      "source": [
        "import pandas as pd\n",
        "import numpy as np\n",
        "import matplotlib.pyplot as plt\n",
        "import requests\n",
        "\n",
        "# Try to Load the data from repo url\n",
        "path_train_sDat = \"https://github.com/dev-nanthan/KNN_Classifier/blob/4204c19bb231a8652b7a4704f953aeff5467092c/train.sDAT.csv\"\n",
        "path_test_sDat = \"https://github.com/dev-nanthan/KNN_Classifier/blob/4204c19bb231a8652b7a4704f953aeff5467092c/test.sDAT.csv\"\n",
        "path_train_sNC = \"https://github.com/dev-nanthan/KNN_Classifier/blob/4204c19bb231a8652b7a4704f953aeff5467092c/train.sNC.csv\"\n",
        "path_test_sNC = \"https://github.com/dev-nanthan/KNN_Classifier/blob/4204c19bb231a8652b7a4704f953aeff5467092c/test.sNC.csv\"\n",
        "path_plot = \"https://github.com/dev-nanthan/KNN_Classifier/blob/4204c19bb231a8652b7a4704f953aeff5467092c/2D_grid_points.csv\"\n",
        "\n",
        "#train_sNC = pd.read_csv(path_train_sNC)\n",
        "#train_sDAT = pd.read_csv(path_train_sDat)\n",
        "#test_sNC = pd.read_csv(path_test_sNC)\n",
        "#test_sDAT = pd.read_csv(path_test_sDat)\n",
        "\n",
        "# use local session files for now\n",
        "\n",
        "train_sNC = pd.read_csv(\"train.sNC.csv\")\n",
        "train_sDAT = pd.read_csv(\"train.sDAT.csv\")\n",
        "test_sNC = pd.read_csv(\"test.sNC.csv\")\n",
        "test_sDAT = pd.read_csv(\"test.sDAT.csv\")\n",
        "\n",
        "\n",
        "\n",
        "\n"
      ]
    },
    {
      "cell_type": "markdown",
      "source": [
        "### **Format Train Data: Concat sDAT next to sNC**"
      ],
      "metadata": {
        "id": "nYwuHABfiBC7"
      }
    },
    {
      "cell_type": "code",
      "source": [
        "\n",
        "train_data = pd.concat([train_sNC, train_sDAT], ignore_index=True)\n",
        "print(\"Train Data Size:\", len(train_data))\n",
        "print(train_data)\n",
        "train_labels = np.concatenate([np.zeros(len(train_sNC)), np.ones(len(train_sDAT))])\n",
        "print(\"Train Label Size\",len(train_labels))\n",
        "print(train_labels)\n",
        "\n"
      ],
      "metadata": {
        "colab": {
          "base_uri": "https://localhost:8080/"
        },
        "id": "KxON9nRU7yfL",
        "outputId": "0e9fb240-e896-4adc-9888-4bb2874cb3a0"
      },
      "execution_count": null,
      "outputs": [
        {
          "output_type": "stream",
          "name": "stdout",
          "text": [
            "Train Data Size: 474\n",
            "           R1        R2\n",
            "0    1.366587  1.490817\n",
            "1    1.451712  1.719282\n",
            "2    1.551907  1.737187\n",
            "3    1.646538  1.774696\n",
            "4    1.423163  1.563309\n",
            "..        ...       ...\n",
            "469  1.269011  1.302713\n",
            "470  1.214345  1.508381\n",
            "471  1.156278  1.215933\n",
            "472  0.987556  1.280006\n",
            "473  1.188155  1.529877\n",
            "\n",
            "[474 rows x 2 columns]\n",
            "Train Label Size 474\n",
            "[0. 0. 0. 0. 0. 0. 0. 0. 0. 0. 0. 0. 0. 0. 0. 0. 0. 0. 0. 0. 0. 0. 0. 0.\n",
            " 0. 0. 0. 0. 0. 0. 0. 0. 0. 0. 0. 0. 0. 0. 0. 0. 0. 0. 0. 0. 0. 0. 0. 0.\n",
            " 0. 0. 0. 0. 0. 0. 0. 0. 0. 0. 0. 0. 0. 0. 0. 0. 0. 0. 0. 0. 0. 0. 0. 0.\n",
            " 0. 0. 0. 0. 0. 0. 0. 0. 0. 0. 0. 0. 0. 0. 0. 0. 0. 0. 0. 0. 0. 0. 0. 0.\n",
            " 0. 0. 0. 0. 0. 0. 0. 0. 0. 0. 0. 0. 0. 0. 0. 0. 0. 0. 0. 0. 0. 0. 0. 0.\n",
            " 0. 0. 0. 0. 0. 0. 0. 0. 0. 0. 0. 0. 0. 0. 0. 0. 0. 0. 0. 0. 0. 0. 0. 0.\n",
            " 0. 0. 0. 0. 0. 0. 0. 0. 0. 0. 0. 0. 0. 0. 0. 0. 0. 0. 0. 0. 0. 0. 0. 0.\n",
            " 0. 0. 0. 0. 0. 0. 0. 0. 0. 0. 0. 0. 0. 0. 0. 0. 0. 0. 0. 0. 0. 0. 0. 0.\n",
            " 0. 0. 0. 0. 0. 0. 0. 0. 0. 0. 0. 0. 0. 0. 0. 0. 0. 0. 0. 0. 0. 0. 0. 0.\n",
            " 0. 0. 0. 0. 0. 0. 0. 0. 0. 0. 0. 0. 0. 0. 0. 0. 0. 0. 0. 0. 0. 1. 1. 1.\n",
            " 1. 1. 1. 1. 1. 1. 1. 1. 1. 1. 1. 1. 1. 1. 1. 1. 1. 1. 1. 1. 1. 1. 1. 1.\n",
            " 1. 1. 1. 1. 1. 1. 1. 1. 1. 1. 1. 1. 1. 1. 1. 1. 1. 1. 1. 1. 1. 1. 1. 1.\n",
            " 1. 1. 1. 1. 1. 1. 1. 1. 1. 1. 1. 1. 1. 1. 1. 1. 1. 1. 1. 1. 1. 1. 1. 1.\n",
            " 1. 1. 1. 1. 1. 1. 1. 1. 1. 1. 1. 1. 1. 1. 1. 1. 1. 1. 1. 1. 1. 1. 1. 1.\n",
            " 1. 1. 1. 1. 1. 1. 1. 1. 1. 1. 1. 1. 1. 1. 1. 1. 1. 1. 1. 1. 1. 1. 1. 1.\n",
            " 1. 1. 1. 1. 1. 1. 1. 1. 1. 1. 1. 1. 1. 1. 1. 1. 1. 1. 1. 1. 1. 1. 1. 1.\n",
            " 1. 1. 1. 1. 1. 1. 1. 1. 1. 1. 1. 1. 1. 1. 1. 1. 1. 1. 1. 1. 1. 1. 1. 1.\n",
            " 1. 1. 1. 1. 1. 1. 1. 1. 1. 1. 1. 1. 1. 1. 1. 1. 1. 1. 1. 1. 1. 1. 1. 1.\n",
            " 1. 1. 1. 1. 1. 1. 1. 1. 1. 1. 1. 1. 1. 1. 1. 1. 1. 1. 1. 1. 1. 1. 1. 1.\n",
            " 1. 1. 1. 1. 1. 1. 1. 1. 1. 1. 1. 1. 1. 1. 1. 1. 1. 1.]\n"
          ]
        }
      ]
    },
    {
      "cell_type": "markdown",
      "source": [
        "### **Format Test Data: Concat sDAT next to sNC**"
      ],
      "metadata": {
        "id": "ArH5X2priQNF"
      }
    },
    {
      "cell_type": "code",
      "source": [
        "test_data = pd.concat([test_sNC, test_sDAT], ignore_index=True)\n",
        "print(\"Test Data Size:\", len(test_data))\n",
        "print(test_data)\n",
        "test_labels = np.concatenate([np.zeros(len(test_sNC)), np.ones(len(test_sDAT))])\n",
        "print(\"Test Label Size\",len(test_labels))\n",
        "print(test_labels)"
      ],
      "metadata": {
        "colab": {
          "base_uri": "https://localhost:8080/"
        },
        "id": "MoO_Ta6Uhzgo",
        "outputId": "2dd5a482-fd01-4da1-e798-81ccd149259d"
      },
      "execution_count": null,
      "outputs": [
        {
          "output_type": "stream",
          "name": "stdout",
          "text": [
            "Test Data Size: 200\n",
            "           R1        R2\n",
            "0    1.516585  1.687811\n",
            "1    1.217929  1.475252\n",
            "2    1.441523  1.605680\n",
            "3    1.372958  1.601416\n",
            "4    1.761656  1.884082\n",
            "..        ...       ...\n",
            "195  1.160422  1.504330\n",
            "196  1.425167  1.512405\n",
            "197  1.126913  1.203578\n",
            "198  1.393663  1.518074\n",
            "199  1.111914  1.437374\n",
            "\n",
            "[200 rows x 2 columns]\n",
            "Test Label Size 200\n",
            "[0. 0. 0. 0. 0. 0. 0. 0. 0. 0. 0. 0. 0. 0. 0. 0. 0. 0. 0. 0. 0. 0. 0. 0.\n",
            " 0. 0. 0. 0. 0. 0. 0. 0. 0. 0. 0. 0. 0. 0. 0. 0. 0. 0. 0. 0. 0. 0. 0. 0.\n",
            " 0. 0. 0. 0. 0. 0. 0. 0. 0. 0. 0. 0. 0. 0. 0. 0. 0. 0. 0. 0. 0. 0. 0. 0.\n",
            " 0. 0. 0. 0. 0. 0. 0. 0. 0. 0. 0. 0. 0. 0. 0. 0. 0. 0. 0. 0. 0. 0. 0. 0.\n",
            " 0. 0. 0. 0. 1. 1. 1. 1. 1. 1. 1. 1. 1. 1. 1. 1. 1. 1. 1. 1. 1. 1. 1. 1.\n",
            " 1. 1. 1. 1. 1. 1. 1. 1. 1. 1. 1. 1. 1. 1. 1. 1. 1. 1. 1. 1. 1. 1. 1. 1.\n",
            " 1. 1. 1. 1. 1. 1. 1. 1. 1. 1. 1. 1. 1. 1. 1. 1. 1. 1. 1. 1. 1. 1. 1. 1.\n",
            " 1. 1. 1. 1. 1. 1. 1. 1. 1. 1. 1. 1. 1. 1. 1. 1. 1. 1. 1. 1. 1. 1. 1. 1.\n",
            " 1. 1. 1. 1. 1. 1. 1. 1.]\n"
          ]
        }
      ]
    },
    {
      "cell_type": "markdown",
      "source": [
        "### **For Given K options Fit the classifier using Euclidean Distance**"
      ],
      "metadata": {
        "id": "sr9tghM2mHqo"
      }
    },
    {
      "cell_type": "code",
      "source": [
        "from sklearn.neighbors import KNeighborsClassifier\n",
        "\n",
        "K_opt = [1,3,5,10,20,30,50,100,150,200]\n",
        "Results = []\n",
        "\n",
        "for k in K_opt:\n",
        "  knn = KNeighborsClassifier(n_neighbors=k, metric='euclidean')\n",
        "  knn.fit(train_data, train_labels)\n",
        "  train_accuracy = knn.score(train_data, train_labels)\n",
        "  test_accuracy = knn.score(test_data, test_labels)\n",
        "  print(\"k={}, Train accuracy={:.2f}, Test accuracy={:.2f}\".format(k, train_accuracy, test_accuracy))\n"
      ],
      "metadata": {
        "colab": {
          "base_uri": "https://localhost:8080/"
        },
        "id": "krEpBmmY716N",
        "outputId": "7a070a19-2f45-4bf1-bd34-012c6a4b855f"
      },
      "execution_count": null,
      "outputs": [
        {
          "output_type": "stream",
          "name": "stdout",
          "text": [
            "k=1, Train accuracy=1.00, Test accuracy=0.78\n",
            "k=3, Train accuracy=0.86, Test accuracy=0.80\n",
            "k=5, Train accuracy=0.84, Test accuracy=0.83\n",
            "k=10, Train accuracy=0.85, Test accuracy=0.83\n",
            "k=20, Train accuracy=0.83, Test accuracy=0.83\n",
            "k=30, Train accuracy=0.83, Test accuracy=0.84\n",
            "k=50, Train accuracy=0.84, Test accuracy=0.81\n",
            "k=100, Train accuracy=0.80, Test accuracy=0.80\n",
            "k=150, Train accuracy=0.81, Test accuracy=0.81\n",
            "k=200, Train accuracy=0.78, Test accuracy=0.80\n"
          ]
        }
      ]
    },
    {
      "cell_type": "markdown",
      "source": [],
      "metadata": {
        "id": "qUYco1MlmDse"
      }
    }
  ]
}